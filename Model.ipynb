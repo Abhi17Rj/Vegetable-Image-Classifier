{
 "cells": [
  {
   "cell_type": "markdown",
   "metadata": {},
   "source": [
    "# Vegetable Recognition System"
   ]
  },
  {
   "cell_type": "markdown",
   "metadata": {},
   "source": [
    "Importing libraries"
   ]
  },
  {
   "cell_type": "code",
   "execution_count": 1,
   "metadata": {},
   "outputs": [],
   "source": [
    "import tensorflow as tf\n",
    "from keras.preprocessing.image import ImageDataGenerator"
   ]
  },
  {
   "cell_type": "markdown",
   "metadata": {},
   "source": [
    "Loading images"
   ]
  },
  {
   "cell_type": "code",
   "execution_count": 2,
   "metadata": {},
   "outputs": [
    {
     "name": "stdout",
     "output_type": "stream",
     "text": [
      "Found 1287 images belonging to 6 classes.\n",
      "Found 242 images belonging to 6 classes.\n"
     ]
    }
   ],
   "source": [
    "train_datagen = ImageDataGenerator(rescale = 1./255,\n",
    "                                   shear_range = 0.2,\n",
    "                                   zoom_range = 0.2,\n",
    "                                   horizontal_flip = True)\n",
    "training_set = train_datagen.flow_from_directory('dataset/training',\n",
    "                                                 target_size = (128, 128),\n",
    "                                                 batch_size = 8,\n",
    "                                                 color_mode=\"rgb\",\n",
    "                                                 shuffle=True,\n",
    "                                                 class_mode = 'categorical')\n",
    "test_datagen = ImageDataGenerator(rescale = 1./255)\n",
    "test_set = test_datagen.flow_from_directory('dataset/test',\n",
    "                                            target_size = (128, 128),\n",
    "                                            batch_size = 4,\n",
    "                                            color_mode=\"rgb\",\n",
    "                                            shuffle=True,\n",
    "                                            class_mode = 'categorical')"
   ]
  },
  {
   "cell_type": "markdown",
   "metadata": {},
   "source": [
    "CNN model"
   ]
  },
  {
   "cell_type": "code",
   "execution_count": 3,
   "metadata": {},
   "outputs": [
    {
     "name": "stdout",
     "output_type": "stream",
     "text": [
      "Epoch 1/30\n",
      "322/322 [==============================] - 107s 323ms/step - loss: 1.7961 - accuracy: 0.3621 - val_loss: 1.1811 - val_accuracy: 0.5207\n",
      "Epoch 2/30\n",
      "322/322 [==============================] - 72s 223ms/step - loss: 1.1760 - accuracy: 0.5639 - val_loss: 0.6458 - val_accuracy: 0.7438\n",
      "Epoch 3/30\n",
      "322/322 [==============================] - 71s 220ms/step - loss: 0.9046 - accuracy: 0.6895 - val_loss: 0.5497 - val_accuracy: 0.7562\n",
      "Epoch 4/30\n",
      "322/322 [==============================] - 70s 217ms/step - loss: 0.7267 - accuracy: 0.7514 - val_loss: 0.5445 - val_accuracy: 0.8223\n",
      "Epoch 5/30\n",
      "322/322 [==============================] - 70s 216ms/step - loss: 0.6529 - accuracy: 0.7785 - val_loss: 0.3985 - val_accuracy: 0.8471\n",
      "Epoch 6/30\n",
      "322/322 [==============================] - 69s 215ms/step - loss: 0.5162 - accuracy: 0.8296 - val_loss: 0.6645 - val_accuracy: 0.7355\n",
      "Epoch 7/30\n",
      "322/322 [==============================] - 70s 217ms/step - loss: 0.5120 - accuracy: 0.8256 - val_loss: 0.3872 - val_accuracy: 0.8719\n",
      "Epoch 8/30\n",
      "322/322 [==============================] - 70s 217ms/step - loss: 0.4662 - accuracy: 0.8384 - val_loss: 0.3960 - val_accuracy: 0.8636\n",
      "Epoch 9/30\n",
      "322/322 [==============================] - 70s 216ms/step - loss: 0.4913 - accuracy: 0.8326 - val_loss: 0.3998 - val_accuracy: 0.8678\n",
      "Epoch 10/30\n",
      "322/322 [==============================] - 70s 216ms/step - loss: 0.4040 - accuracy: 0.8481 - val_loss: 0.6048 - val_accuracy: 0.8140\n",
      "Epoch 11/30\n",
      "322/322 [==============================] - 70s 217ms/step - loss: 0.3305 - accuracy: 0.8972 - val_loss: 0.2620 - val_accuracy: 0.9091\n",
      "Epoch 12/30\n",
      "322/322 [==============================] - 69s 216ms/step - loss: 0.3133 - accuracy: 0.9141 - val_loss: 0.2518 - val_accuracy: 0.9091\n",
      "Epoch 13/30\n",
      "322/322 [==============================] - 70s 217ms/step - loss: 0.3357 - accuracy: 0.8928 - val_loss: 0.3529 - val_accuracy: 0.9008\n",
      "Epoch 14/30\n",
      "322/322 [==============================] - 70s 216ms/step - loss: 0.2317 - accuracy: 0.9144 - val_loss: 0.2684 - val_accuracy: 0.9008\n",
      "Epoch 15/30\n",
      "322/322 [==============================] - 69s 216ms/step - loss: 0.3533 - accuracy: 0.8774 - val_loss: 0.2483 - val_accuracy: 0.9132\n",
      "Epoch 16/30\n",
      "322/322 [==============================] - 71s 221ms/step - loss: 0.2730 - accuracy: 0.9054 - val_loss: 0.2184 - val_accuracy: 0.9215\n",
      "Epoch 17/30\n",
      "322/322 [==============================] - 73s 225ms/step - loss: 0.1959 - accuracy: 0.9344 - val_loss: 0.2170 - val_accuracy: 0.9380\n",
      "Epoch 18/30\n",
      "322/322 [==============================] - 71s 222ms/step - loss: 0.1622 - accuracy: 0.9463 - val_loss: 0.1984 - val_accuracy: 0.9132\n",
      "Epoch 19/30\n",
      "322/322 [==============================] - 88s 272ms/step - loss: 0.1759 - accuracy: 0.9377 - val_loss: 0.1867 - val_accuracy: 0.9380\n",
      "Epoch 20/30\n",
      "322/322 [==============================] - 83s 258ms/step - loss: 0.1458 - accuracy: 0.9524 - val_loss: 0.4573 - val_accuracy: 0.8678\n",
      "Epoch 21/30\n",
      "322/322 [==============================] - 77s 239ms/step - loss: 0.2076 - accuracy: 0.9344 - val_loss: 0.2653 - val_accuracy: 0.9008\n",
      "Epoch 22/30\n",
      "322/322 [==============================] - 78s 243ms/step - loss: 0.1433 - accuracy: 0.9571 - val_loss: 0.2225 - val_accuracy: 0.9256\n",
      "Epoch 23/30\n",
      "322/322 [==============================] - 73s 228ms/step - loss: 0.1826 - accuracy: 0.9424 - val_loss: 0.2608 - val_accuracy: 0.9339\n",
      "Epoch 24/30\n",
      "322/322 [==============================] - 70s 219ms/step - loss: 0.1975 - accuracy: 0.9434 - val_loss: 0.3401 - val_accuracy: 0.9091\n",
      "Epoch 25/30\n",
      "322/322 [==============================] - 73s 227ms/step - loss: 0.1328 - accuracy: 0.9586 - val_loss: 0.3505 - val_accuracy: 0.9339\n",
      "Epoch 26/30\n",
      "322/322 [==============================] - 73s 228ms/step - loss: 0.1623 - accuracy: 0.9448 - val_loss: 0.2579 - val_accuracy: 0.9339\n",
      "Epoch 27/30\n",
      "322/322 [==============================] - 72s 224ms/step - loss: 0.2052 - accuracy: 0.9473 - val_loss: 0.3420 - val_accuracy: 0.9132\n",
      "Epoch 28/30\n",
      "322/322 [==============================] - 71s 221ms/step - loss: 0.1050 - accuracy: 0.9704 - val_loss: 0.3246 - val_accuracy: 0.9174\n",
      "Epoch 29/30\n",
      "322/322 [==============================] - 71s 222ms/step - loss: 0.1259 - accuracy: 0.9510 - val_loss: 0.2989 - val_accuracy: 0.9256\n",
      "Epoch 30/30\n",
      "322/322 [==============================] - 77s 238ms/step - loss: 0.1464 - accuracy: 0.9556 - val_loss: 0.3803 - val_accuracy: 0.9215\n"
     ]
    },
    {
     "data": {
      "text/plain": [
       "<tensorflow.python.keras.callbacks.History at 0x1dde542b248>"
      ]
     },
     "execution_count": 3,
     "metadata": {},
     "output_type": "execute_result"
    }
   ],
   "source": [
    "cnn = tf.keras.models.Sequential()\n",
    "\n",
    "cnn.add(tf.keras.layers.Conv2D(filters=256, kernel_size=3, activation='relu', input_shape=[128, 128, 3]))\n",
    "cnn.add(tf.keras.layers.MaxPool2D(pool_size=2, strides=2))\n",
    "\n",
    "cnn.add(tf.keras.layers.Conv2D(filters=256, kernel_size=3, activation='relu'))\n",
    "cnn.add(tf.keras.layers.MaxPool2D(pool_size=2, strides=2))\n",
    "\n",
    "cnn.add(tf.keras.layers.Flatten())\n",
    "\n",
    "cnn.add(tf.keras.layers.Dense(units=2056, activation='relu'))\n",
    "\n",
    "cnn.add(tf.keras.layers.Dense(units=6, activation='softmax'))\n",
    "\n",
    "cnn.compile(optimizer = 'adam', loss = 'categorical_crossentropy', metrics = ['accuracy'])\n",
    "\n",
    "cnn.fit(x = training_set, validation_data = test_set, epochs = 10)"
   ]
  },
  {
   "cell_type": "code",
   "execution_count": 13,
   "metadata": {},
   "outputs": [
    {
     "name": "stdout",
     "output_type": "stream",
     "text": [
      "Predicted image is :  Peas\n"
     ]
    },
    {
     "data": {
      "image/png": "[encoded data removed]",
      "text/plain": [
       "<Figure size 432x288 with 1 Axes>"
      ]
     },
     "metadata": {
      "needs_background": "light"
     },
     "output_type": "display_data"
    }
   ],
   "source": [
    "import matplotlib.pyplot as plt\n",
    "import matplotlib.image as mpimg\n",
    "import numpy as np\n",
    "from PIL import Image\n",
    "from keras.models import Model\n",
    "\n",
    "import os, os.path\n",
    "\n",
    "train_categories = []\n",
    "train_samples = []\n",
    "\n",
    "for i in os.listdir(\"dataset/training\"):\n",
    "    train_categories.append(i)\n",
    "\n",
    "img = Image.open(\"dataset/53.jpg\")\n",
    "original_img = np.array(img, dtype=np.uint8)\n",
    "plt.imshow(original_img)\n",
    "\n",
    "if img.size[0] > img.size[1]:\n",
    "    scale = 128 / img.size[1]\n",
    "    new_h = int(img.size[1] * scale)\n",
    "    new_w = int(img.size[0] * scale)\n",
    "    new_size = (new_w, new_h)\n",
    "\n",
    "else:\n",
    "    scale = 128 / img.size[0]\n",
    "    new_h = int(img.size[1] * scale)\n",
    "    new_w = int(img.size[0] * scale)\n",
    "    new_size = (new_w, new_h)\n",
    "\n",
    "resized = img.resize(new_size)\n",
    "resized_img = np.array(resized, dtype=np.uint8)\n",
    "plt.imshow(resized_img)\n",
    "\n",
    "left = 0\n",
    "right = left + 128\n",
    "up = 0\n",
    "down = up + 128\n",
    "\n",
    "cropped = resized.crop((left, up, right, down))\n",
    "cropped_img = np.array(cropped, dtype=np.uint8)\n",
    "\n",
    "cropped_img = cropped_img / 255.0\n",
    "X = np.reshape(cropped_img, newshape=(1, cropped_img.shape[0], cropped_img.shape[1], cropped_img.shape[2]))\n",
    "\n",
    "prediction_multi = cnn.predict(x=X)\n",
    "store = np.argmax(prediction_multi)\n",
    "print(\"Predicted image is : \", train_categories[store])\n",
    "\n",
    "plt.show()"
   ]
  },
  {
   "cell_type": "code",
   "execution_count": null,
   "metadata": {},
   "outputs": [],
   "source": []
  },
  {
   "cell_type": "code",
   "execution_count": null,
   "metadata": {},
   "outputs": [],
   "source": []
  }
 ],
 "metadata": {
  "kernelspec": {
   "display_name": "Python 3",
   "language": "python",
   "name": "python3"
  },
  "language_info": {
   "codemirror_mode": {
    "name": "ipython",
    "version": 3
   },
   "file_extension": ".py",
   "mimetype": "text/x-python",
   "name": "python",
   "nbconvert_exporter": "python",
   "pygments_lexer": "ipython3",
   "version": "3.7.4"
  }
 },
 "nbformat": 4,
 "nbformat_minor": 2
}
