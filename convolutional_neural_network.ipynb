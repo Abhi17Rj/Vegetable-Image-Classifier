{
 "cells": [
  {
   "cell_type": "markdown",
   "metadata": {
    "colab_type": "text",
    "id": "3DR-eO17geWu"
   },
   "source": [
    "# Convolutional Neural Network"
   ]
  },
  {
   "cell_type": "markdown",
   "metadata": {
    "colab_type": "text",
    "id": "EMefrVPCg-60"
   },
   "source": [
    "### Importing the libraries"
   ]
  },
  {
   "cell_type": "code",
   "execution_count": 1,
   "metadata": {
    "colab": {},
    "colab_type": "code",
    "id": "sCV30xyVhFbE"
   },
   "outputs": [],
   "source": [
    "import tensorflow as tf\n",
    "from keras.preprocessing.image import ImageDataGenerator"
   ]
  },
  {
   "cell_type": "code",
   "execution_count": 2,
   "metadata": {
    "colab": {},
    "colab_type": "code",
    "id": "FIleuCAjoFD8"
   },
   "outputs": [
    {
     "data": {
      "text/plain": [
       "'2.4.1'"
      ]
     },
     "execution_count": 2,
     "metadata": {},
     "output_type": "execute_result"
    }
   ],
   "source": [
    "tf.__version__"
   ]
  },
  {
   "cell_type": "markdown",
   "metadata": {
    "colab_type": "text",
    "id": "oxQxCBWyoGPE"
   },
   "source": [
    "## Part 1 - Data Preprocessing"
   ]
  },
  {
   "cell_type": "markdown",
   "metadata": {
    "colab_type": "text",
    "id": "MvE-heJNo3GG"
   },
   "source": [
    "### Preprocessing the Training set"
   ]
  },
  {
   "cell_type": "code",
   "execution_count": 5,
   "metadata": {
    "colab": {},
    "colab_type": "code",
    "id": "0koUcJMJpEBD"
   },
   "outputs": [
    {
     "name": "stdout",
     "output_type": "stream",
     "text": [
      "Found 44 images belonging to 3 classes.\n"
     ]
    }
   ],
   "source": [
    "train_datagen = ImageDataGenerator(rescale = 1./255,\n",
    "                                   shear_range = 0.2,\n",
    "                                   zoom_range = 0.2,\n",
    "                                   horizontal_flip = True)\n",
    "training_set = train_datagen.flow_from_directory('dataset/training',\n",
    "                                                 target_size = (128, 128),\n",
    "                                                 batch_size = 4,\n",
    "                                                 class_mode = 'binary')"
   ]
  },
  {
   "cell_type": "markdown",
   "metadata": {
    "colab_type": "text",
    "id": "mrCMmGw9pHys"
   },
   "source": [
    "### Preprocessing the Test set"
   ]
  },
  {
   "cell_type": "code",
   "execution_count": 6,
   "metadata": {
    "colab": {},
    "colab_type": "code",
    "id": "SH4WzfOhpKc3"
   },
   "outputs": [
    {
     "name": "stdout",
     "output_type": "stream",
     "text": [
      "Found 10 images belonging to 3 classes.\n"
     ]
    }
   ],
   "source": [
    "test_datagen = ImageDataGenerator(rescale = 1./255)\n",
    "test_set = test_datagen.flow_from_directory('dataset/test',\n",
    "                                            target_size = (128, 128),\n",
    "                                            batch_size = 4,\n",
    "                                            class_mode = 'binary')"
   ]
  },
  {
   "cell_type": "markdown",
   "metadata": {
    "colab_type": "text",
    "id": "af8O4l90gk7B"
   },
   "source": [
    "## Part 2 - Building the CNN"
   ]
  },
  {
   "cell_type": "markdown",
   "metadata": {
    "colab_type": "text",
    "id": "ces1gXY2lmoX"
   },
   "source": [
    "### Initialising the CNN"
   ]
  },
  {
   "cell_type": "code",
   "execution_count": 7,
   "metadata": {
    "colab": {},
    "colab_type": "code",
    "id": "SAUt4UMPlhLS"
   },
   "outputs": [],
   "source": [
    "cnn = tf.keras.models.Sequential()"
   ]
  },
  {
   "cell_type": "markdown",
   "metadata": {
    "colab_type": "text",
    "id": "u5YJj_XMl5LF"
   },
   "source": [
    "### Step 1 - Convolution"
   ]
  },
  {
   "cell_type": "code",
   "execution_count": 8,
   "metadata": {
    "colab": {},
    "colab_type": "code",
    "id": "XPzPrMckl-hV"
   },
   "outputs": [],
   "source": [
    "cnn.add(tf.keras.layers.Conv2D(filters=32, kernel_size=3, activation='relu', input_shape=[128, 128, 3]))"
   ]
  },
  {
   "cell_type": "markdown",
   "metadata": {
    "colab_type": "text",
    "id": "tf87FpvxmNOJ"
   },
   "source": [
    "### Step 2 - Pooling"
   ]
  },
  {
   "cell_type": "code",
   "execution_count": 9,
   "metadata": {
    "colab": {},
    "colab_type": "code",
    "id": "ncpqPl69mOac"
   },
   "outputs": [],
   "source": [
    "cnn.add(tf.keras.layers.MaxPool2D(pool_size=2, strides=2))"
   ]
  },
  {
   "cell_type": "markdown",
   "metadata": {
    "colab_type": "text",
    "id": "xaTOgD8rm4mU"
   },
   "source": [
    "### Adding a second convolutional layer"
   ]
  },
  {
   "cell_type": "code",
   "execution_count": 10,
   "metadata": {
    "colab": {},
    "colab_type": "code",
    "id": "i_-FZjn_m8gk"
   },
   "outputs": [],
   "source": [
    "cnn.add(tf.keras.layers.Conv2D(filters=32, kernel_size=3, activation='relu'))\n",
    "cnn.add(tf.keras.layers.MaxPool2D(pool_size=2, strides=2))"
   ]
  },
  {
   "cell_type": "markdown",
   "metadata": {
    "colab_type": "text",
    "id": "tmiEuvTunKfk"
   },
   "source": [
    "### Step 3 - Flattening"
   ]
  },
  {
   "cell_type": "code",
   "execution_count": 11,
   "metadata": {
    "colab": {},
    "colab_type": "code",
    "id": "6AZeOGCvnNZn"
   },
   "outputs": [],
   "source": [
    "cnn.add(tf.keras.layers.Flatten())"
   ]
  },
  {
   "cell_type": "markdown",
   "metadata": {
    "colab_type": "text",
    "id": "dAoSECOm203v"
   },
   "source": [
    "### Step 4 - Full Connection"
   ]
  },
  {
   "cell_type": "code",
   "execution_count": 12,
   "metadata": {
    "colab": {},
    "colab_type": "code",
    "id": "8GtmUlLd26Nq"
   },
   "outputs": [],
   "source": [
    "cnn.add(tf.keras.layers.Dense(units=128, activation='relu'))"
   ]
  },
  {
   "cell_type": "markdown",
   "metadata": {
    "colab_type": "text",
    "id": "yTldFvbX28Na"
   },
   "source": [
    "### Step 5 - Output Layer"
   ]
  },
  {
   "cell_type": "code",
   "execution_count": 13,
   "metadata": {
    "colab": {},
    "colab_type": "code",
    "id": "1p_Zj1Mc3Ko_"
   },
   "outputs": [],
   "source": [
    "cnn.add(tf.keras.layers.Dense(units=1, activation='sigmoid'))"
   ]
  },
  {
   "cell_type": "markdown",
   "metadata": {
    "colab_type": "text",
    "id": "D6XkI90snSDl"
   },
   "source": [
    "## Part 3 - Training the CNN"
   ]
  },
  {
   "cell_type": "markdown",
   "metadata": {
    "colab_type": "text",
    "id": "vfrFQACEnc6i"
   },
   "source": [
    "### Compiling the CNN"
   ]
  },
  {
   "cell_type": "code",
   "execution_count": 14,
   "metadata": {
    "colab": {},
    "colab_type": "code",
    "id": "NALksrNQpUlJ"
   },
   "outputs": [],
   "source": [
    "cnn.compile(optimizer = 'adam', loss = 'binary_crossentropy', metrics = ['accuracy'])"
   ]
  },
  {
   "cell_type": "markdown",
   "metadata": {
    "colab_type": "text",
    "id": "ehS-v3MIpX2h"
   },
   "source": [
    "### Training the CNN on the Training set and evaluating it on the Test set"
   ]
  },
  {
   "cell_type": "code",
   "execution_count": 15,
   "metadata": {
    "colab": {},
    "colab_type": "code",
    "id": "XUj1W4PJptta"
   },
   "outputs": [
    {
     "name": "stdout",
     "output_type": "stream",
     "text": [
      "Epoch 1/25\n",
      "11/11 [==============================] - 4s 238ms/step - loss: -0.8690 - accuracy: 0.3239 - val_loss: -12.6146 - val_accuracy: 0.4000\n",
      "Epoch 2/25\n",
      "11/11 [==============================] - 2s 155ms/step - loss: -23.4848 - accuracy: 0.3784 - val_loss: -55.1676 - val_accuracy: 0.4000\n",
      "Epoch 3/25\n",
      "11/11 [==============================] - 2s 161ms/step - loss: -94.0199 - accuracy: 0.3642 - val_loss: -123.8815 - val_accuracy: 0.4000\n",
      "Epoch 4/25\n",
      "11/11 [==============================] - 2s 157ms/step - loss: -236.3446 - accuracy: 0.2403 - val_loss: -285.5533 - val_accuracy: 0.4000\n",
      "Epoch 5/25\n",
      "11/11 [==============================] - 2s 155ms/step - loss: -219.3873 - accuracy: 0.2802 - val_loss: -571.7456 - val_accuracy: 0.4000\n",
      "Epoch 6/25\n",
      "11/11 [==============================] - 2s 158ms/step - loss: -844.5036 - accuracy: 0.4231 - val_loss: -1215.9899 - val_accuracy: 0.4000\n",
      "Epoch 7/25\n",
      "11/11 [==============================] - 2s 181ms/step - loss: -1251.5254 - accuracy: 0.3259 - val_loss: -2395.0483 - val_accuracy: 0.4000\n",
      "Epoch 8/25\n",
      "11/11 [==============================] - 2s 168ms/step - loss: -2852.3460 - accuracy: 0.4816 - val_loss: -4584.7915 - val_accuracy: 0.4000\n",
      "Epoch 9/25\n",
      "11/11 [==============================] - 2s 184ms/step - loss: -6256.6340 - accuracy: 0.4093 - val_loss: -8039.8623 - val_accuracy: 0.4000\n",
      "Epoch 10/25\n",
      "11/11 [==============================] - 2s 168ms/step - loss: -10043.0410 - accuracy: 0.3410 - val_loss: -12984.0830 - val_accuracy: 0.4000\n",
      "Epoch 11/25\n",
      "11/11 [==============================] - 2s 157ms/step - loss: -22257.7821 - accuracy: 0.3230 - val_loss: -22443.3633 - val_accuracy: 0.4000\n",
      "Epoch 12/25\n",
      "11/11 [==============================] - 2s 168ms/step - loss: -13267.2592 - accuracy: 0.3461 - val_loss: -31674.5527 - val_accuracy: 0.4000\n",
      "Epoch 13/25\n",
      "11/11 [==============================] - 2s 158ms/step - loss: -34048.1496 - accuracy: 0.3078 - val_loss: -51586.3281 - val_accuracy: 0.4000\n",
      "Epoch 14/25\n",
      "11/11 [==============================] - 2s 158ms/step - loss: -66182.1392 - accuracy: 0.3686 - val_loss: -87384.5469 - val_accuracy: 0.4000\n",
      "Epoch 15/25\n",
      "11/11 [==============================] - 2s 172ms/step - loss: -81877.5898 - accuracy: 0.3664 - val_loss: -121858.7734 - val_accuracy: 0.4000\n",
      "Epoch 16/25\n",
      "11/11 [==============================] - 2s 182ms/step - loss: -144226.7324 - accuracy: 0.3237 - val_loss: -181447.4062 - val_accuracy: 0.4000\n",
      "Epoch 17/25\n",
      "11/11 [==============================] - 2s 167ms/step - loss: -295106.4245 - accuracy: 0.3326 - val_loss: -259691.1250 - val_accuracy: 0.4000\n",
      "Epoch 18/25\n",
      "11/11 [==============================] - 2s 166ms/step - loss: -308449.5150 - accuracy: 0.3548 - val_loss: -338095.0312 - val_accuracy: 0.4000\n",
      "Epoch 19/25\n",
      "11/11 [==============================] - 2s 153ms/step - loss: -695080.8802 - accuracy: 0.2787 - val_loss: -467854.5938 - val_accuracy: 0.4000\n",
      "Epoch 20/25\n",
      "11/11 [==============================] - 2s 155ms/step - loss: -408210.5221 - accuracy: 0.4179 - val_loss: -582276.3125 - val_accuracy: 0.4000\n",
      "Epoch 21/25\n",
      "11/11 [==============================] - 2s 153ms/step - loss: -227530.9375 - accuracy: 0.2907 - val_loss: -723689.5000 - val_accuracy: 0.4000\n",
      "Epoch 22/25\n",
      "11/11 [==============================] - 2s 161ms/step - loss: -950352.2292 - accuracy: 0.3147 - val_loss: -909538.1875 - val_accuracy: 0.4000\n",
      "Epoch 23/25\n",
      "11/11 [==============================] - 2s 163ms/step - loss: -1438897.6875 - accuracy: 0.4118 - val_loss: -1145835.8750 - val_accuracy: 0.4000\n",
      "Epoch 24/25\n",
      "11/11 [==============================] - 2s 179ms/step - loss: -1308611.2057 - accuracy: 0.3975 - val_loss: -1350396.2500 - val_accuracy: 0.4000\n",
      "Epoch 25/25\n",
      "11/11 [==============================] - 2s 164ms/step - loss: -1458319.5208 - accuracy: 0.2673 - val_loss: -1599621.2500 - val_accuracy: 0.4000\n"
     ]
    },
    {
     "data": {
      "text/plain": [
       "<tensorflow.python.keras.callbacks.History at 0x1f0c45a0e48>"
      ]
     },
     "execution_count": 15,
     "metadata": {},
     "output_type": "execute_result"
    }
   ],
   "source": [
    "cnn.fit(x = training_set, validation_data = test_set, epochs = 25)"
   ]
  },
  {
   "cell_type": "markdown",
   "metadata": {
    "colab_type": "text",
    "id": "U3PZasO0006Z"
   },
   "source": [
    "## Part 4 - Making a single prediction"
   ]
  },
  {
   "cell_type": "code",
   "execution_count": 18,
   "metadata": {
    "colab": {},
    "colab_type": "code",
    "id": "gsSiWEJY1BPB"
   },
   "outputs": [],
   "source": [
    "import numpy as np\n",
    "from keras.preprocessing import image\n",
    "test_image = image.load_img('dataset/23.jpg', target_size = (128, 128))\n",
    "test_image = image.img_to_array(test_image)\n",
    "test_image = np.expand_dims(test_image, axis = 0)\n",
    "result = cnn.predict(test_image)\n",
    "training_set.class_indices\n",
    "if result[0][0] == 1:\n",
    "  prediction = 'tomato'\n",
    "else:\n",
    "  prediction = 'ladyfinger'"
   ]
  },
  {
   "cell_type": "code",
   "execution_count": 17,
   "metadata": {
    "colab": {},
    "colab_type": "code",
    "id": "ED9KB3I54c1i"
   },
   "outputs": [
    {
     "name": "stdout",
     "output_type": "stream",
     "text": [
      "tomato\n"
     ]
    }
   ],
   "source": [
    "print(prediction)"
   ]
  },
  {
   "cell_type": "code",
   "execution_count": null,
   "metadata": {},
   "outputs": [],
   "source": []
  }
 ],
 "metadata": {
  "colab": {
   "collapsed_sections": [],
   "name": "convolutional_neural_network.ipynb",
   "provenance": [],
   "toc_visible": true
  },
  "kernelspec": {
   "display_name": "Python 3",
   "language": "python",
   "name": "python3"
  },
  "language_info": {
   "codemirror_mode": {
    "name": "ipython",
    "version": 3
   },
   "file_extension": ".py",
   "mimetype": "text/x-python",
   "name": "python",
   "nbconvert_exporter": "python",
   "pygments_lexer": "ipython3",
   "version": "3.7.4"
  }
 },
 "nbformat": 4,
 "nbformat_minor": 1
}
